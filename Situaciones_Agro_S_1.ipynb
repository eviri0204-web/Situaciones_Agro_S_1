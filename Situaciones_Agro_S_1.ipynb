{
  "nbformat": 4,
  "nbformat_minor": 0,
  "metadata": {
    "colab": {
      "provenance": [],
      "authorship_tag": "ABX9TyO+YjxfSVWiStWLAKlMcgUs",
      "include_colab_link": true
    },
    "kernelspec": {
      "name": "python3",
      "display_name": "Python 3"
    },
    "language_info": {
      "name": "python"
    }
  },
  "cells": [
    {
      "cell_type": "markdown",
      "metadata": {
        "id": "view-in-github",
        "colab_type": "text"
      },
      "source": [
        "<a href=\"https://colab.research.google.com/github/eviri0204-web/Situaciones_Agro_S_1/blob/main/Situaciones_Agro_S_1.ipynb\" target=\"_parent\"><img src=\"https://colab.research.google.com/assets/colab-badge.svg\" alt=\"Open In Colab\"/></a>"
      ]
    },
    {
      "cell_type": "code",
      "execution_count": null,
      "metadata": {
        "id": "09Ttj0Sun5Sx"
      },
      "outputs": [],
      "source": []
    },
    {
      "cell_type": "markdown",
      "source": [
        "# 1. Situación de Interés en Ingeniería Agrícola\n",
        "\n",
        "Un agricultor necesita saber cuántos kilogramos de semilla de maíz debe comprar para sembrar un lote rectangular. Conoce la densidad de siembra\n",
        "recomendada (kg por hectárea) y las dimensiones del lote (largo y ancho en metros)."
      ],
      "metadata": {
        "id": "_Cx6xdeG134Y"
      }
    },
    {
      "cell_type": "code",
      "source": [
        "# 1. Saludar al usuario y explicar qué hace el programa.\n",
        "print(\"Bienvenido al programa de cálculo de densidad de siembra.\")\n",
        "\n",
        "# 2.  Pedir al usuario que ingrese el largo del lote en metros (input sin convertir).\n",
        "largo = input(\"Ingrese el largo del lote en metros: \")\n",
        "\n",
        "# 3. Pedir al usuario que ingrese el ancho del lote en metros (input sin convertir FLOAT).\n",
        "ancho = input(\"Ingrese el ancho del lote en metros: \")\n",
        "\n",
        "# 4. pedir al usuario que ingrese la densidad de siembra recomendada de kilogramos por hectárias.\n",
        "densidad = input(\"Ingrese la densidad de siembra recomendada de kilogramos por hectárea: \")\n",
        "\n",
        "#5. Convertir las entradas de texto a números decimales (float).\n",
        "largo = float(largo)\n",
        "ancho = float(ancho)\n",
        "densidad = float(densidad)\n",
        "\n",
        "# 6. Calcular el área en metros cuadrados (largo * ancho).\n",
        "area = largo * ancho\n",
        "\n",
        "# 7. Calcular la densidad de siembra en kilogramos por hectárea (densidad * area).\n",
        "densidad_siembra = densidad * area\n",
        "\n",
        "# 8. Mostrar el resultado al usuario.\n",
        "print(\"El lote tiene un área de\", area, \"metros cuadrados.\")\n",
        "print(\"La densidad de siembra recomendada es de\", densidad_siembra, \"kilogramos por hectárea.\")"
      ],
      "metadata": {
        "id": "0X9kD4aSwk_m"
      },
      "execution_count": null,
      "outputs": []
    },
    {
      "cell_type": "markdown",
      "metadata": {
        "id": "e84735eb"
      },
      "source": [
        "Aquí tienes la explicación línea por línea del código anterior:"
      ]
    },
    {
      "cell_type": "code",
      "metadata": {
        "colab": {
          "base_uri": "https://localhost:8080/",
          "height": 321
        },
        "id": "a9f9d41d",
        "outputId": "2d1596b1-bf17-4b40-fb37-604e4897eb0d"
      },
      "source": [
        "# 2.  Pedir al usuario que ingrese el largo del lote en metros (input sin convertir).\n",
        "largo = input(\"Ingrese el largo del lote en metros: \")"
      ],
      "execution_count": 6,
      "outputs": [
        {
          "output_type": "error",
          "ename": "KeyboardInterrupt",
          "evalue": "Interrupted by user",
          "traceback": [
            "\u001b[0;31m---------------------------------------------------------------------------\u001b[0m",
            "\u001b[0;31mKeyboardInterrupt\u001b[0m                         Traceback (most recent call last)",
            "\u001b[0;32m/tmp/ipython-input-4102071835.py\u001b[0m in \u001b[0;36m<cell line: 0>\u001b[0;34m()\u001b[0m\n\u001b[1;32m      1\u001b[0m \u001b[0;31m# 2.  Pedir al usuario que ingrese el largo del lote en metros (input sin convertir).\u001b[0m\u001b[0;34m\u001b[0m\u001b[0;34m\u001b[0m\u001b[0m\n\u001b[0;32m----> 2\u001b[0;31m \u001b[0mlargo\u001b[0m \u001b[0;34m=\u001b[0m \u001b[0minput\u001b[0m\u001b[0;34m(\u001b[0m\u001b[0;34m\"Ingrese el largo del lote en metros: \"\u001b[0m\u001b[0;34m)\u001b[0m\u001b[0;34m\u001b[0m\u001b[0;34m\u001b[0m\u001b[0m\n\u001b[0m",
            "\u001b[0;32m/usr/local/lib/python3.12/dist-packages/ipykernel/kernelbase.py\u001b[0m in \u001b[0;36mraw_input\u001b[0;34m(self, prompt)\u001b[0m\n\u001b[1;32m   1175\u001b[0m                 \u001b[0;34m\"raw_input was called, but this frontend does not support input requests.\"\u001b[0m\u001b[0;34m\u001b[0m\u001b[0;34m\u001b[0m\u001b[0m\n\u001b[1;32m   1176\u001b[0m             )\n\u001b[0;32m-> 1177\u001b[0;31m         return self._input_request(\n\u001b[0m\u001b[1;32m   1178\u001b[0m             \u001b[0mstr\u001b[0m\u001b[0;34m(\u001b[0m\u001b[0mprompt\u001b[0m\u001b[0;34m)\u001b[0m\u001b[0;34m,\u001b[0m\u001b[0;34m\u001b[0m\u001b[0;34m\u001b[0m\u001b[0m\n\u001b[1;32m   1179\u001b[0m             \u001b[0mself\u001b[0m\u001b[0;34m.\u001b[0m\u001b[0m_parent_ident\u001b[0m\u001b[0;34m[\u001b[0m\u001b[0;34m\"shell\"\u001b[0m\u001b[0;34m]\u001b[0m\u001b[0;34m,\u001b[0m\u001b[0;34m\u001b[0m\u001b[0;34m\u001b[0m\u001b[0m\n",
            "\u001b[0;32m/usr/local/lib/python3.12/dist-packages/ipykernel/kernelbase.py\u001b[0m in \u001b[0;36m_input_request\u001b[0;34m(self, prompt, ident, parent, password)\u001b[0m\n\u001b[1;32m   1217\u001b[0m             \u001b[0;32mexcept\u001b[0m \u001b[0mKeyboardInterrupt\u001b[0m\u001b[0;34m:\u001b[0m\u001b[0;34m\u001b[0m\u001b[0;34m\u001b[0m\u001b[0m\n\u001b[1;32m   1218\u001b[0m                 \u001b[0;31m# re-raise KeyboardInterrupt, to truncate traceback\u001b[0m\u001b[0;34m\u001b[0m\u001b[0;34m\u001b[0m\u001b[0m\n\u001b[0;32m-> 1219\u001b[0;31m                 \u001b[0;32mraise\u001b[0m \u001b[0mKeyboardInterrupt\u001b[0m\u001b[0;34m(\u001b[0m\u001b[0;34m\"Interrupted by user\"\u001b[0m\u001b[0;34m)\u001b[0m \u001b[0;32mfrom\u001b[0m \u001b[0;32mNone\u001b[0m\u001b[0;34m\u001b[0m\u001b[0;34m\u001b[0m\u001b[0m\n\u001b[0m\u001b[1;32m   1220\u001b[0m             \u001b[0;32mexcept\u001b[0m \u001b[0mException\u001b[0m\u001b[0;34m:\u001b[0m\u001b[0;34m\u001b[0m\u001b[0;34m\u001b[0m\u001b[0m\n\u001b[1;32m   1221\u001b[0m                 \u001b[0mself\u001b[0m\u001b[0;34m.\u001b[0m\u001b[0mlog\u001b[0m\u001b[0;34m.\u001b[0m\u001b[0mwarning\u001b[0m\u001b[0;34m(\u001b[0m\u001b[0;34m\"Invalid Message:\"\u001b[0m\u001b[0;34m,\u001b[0m \u001b[0mexc_info\u001b[0m\u001b[0;34m=\u001b[0m\u001b[0;32mTrue\u001b[0m\u001b[0;34m)\u001b[0m\u001b[0;34m\u001b[0m\u001b[0;34m\u001b[0m\u001b[0m\n",
            "\u001b[0;31mKeyboardInterrupt\u001b[0m: Interrupted by user"
          ]
        }
      ]
    },
    {
      "cell_type": "code",
      "metadata": {
        "id": "293a3ea7"
      },
      "source": [
        "# 3. Pedir al usuario que ingrese el ancho del lote en metros (input sin convertir FLOAT).\n",
        "ancho = input(\"Ingrese el ancho del lote en metros: \")"
      ],
      "execution_count": null,
      "outputs": []
    },
    {
      "cell_type": "code",
      "metadata": {
        "id": "9a80a9e2"
      },
      "source": [
        "# 4. pedir al usuario que ingrese la densidad de siembra recomendada de kilogramos por hectárias.\n",
        "densidad = input(\"Ingrese la densidad de siembra recomendada de kilogramos por hectárea: \")"
      ],
      "execution_count": null,
      "outputs": []
    },
    {
      "cell_type": "code",
      "metadata": {
        "id": "e64923b0"
      },
      "source": [
        "#5. Convertir las entradas de texto a números decimales (float).\n",
        "largo = float(largo)\n",
        "ancho = float(ancho)\n",
        "densidad = float(densidad)"
      ],
      "execution_count": null,
      "outputs": []
    },
    {
      "cell_type": "code",
      "metadata": {
        "id": "44a28f73"
      },
      "source": [
        "# 6. Calcular el área en metros cuadrados (largo * ancho).\n",
        "area = largo * ancho"
      ],
      "execution_count": null,
      "outputs": []
    },
    {
      "cell_type": "code",
      "metadata": {
        "id": "31044925"
      },
      "source": [
        "# 7. Calcular la densidad de siembra en kilogramos por hectárea (densidad * area).\n",
        "densidad_siembra = densidad * area"
      ],
      "execution_count": null,
      "outputs": []
    },
    {
      "cell_type": "code",
      "metadata": {
        "id": "71c7099b"
      },
      "source": [
        "# 8. Mostrar el resultado al usuario.\n",
        "print(\"El lote tiene un área de\", area, \"metros cuadrados.\")\n",
        "print(\"La densidad de siembra recomendada es de\", densidad_siembra, \"kilogramos por hectárea.\")"
      ],
      "execution_count": null,
      "outputs": []
    },
    {
      "cell_type": "markdown",
      "source": [
        "#  2. Situación de Interés en Ingeniería Agroindustrial\n",
        "\n",
        "En una planta de procesamiento de mango,\n",
        "se quiere calcular el rendimiento de un lote de fruta. Se necesita un programa simple que tome el\n",
        "peso inicial de los mangos antes de pelarlos y deshuesarlos, y el peso final de la pulpa obtenida, para\n",
        "expresar el rendimiento como un porcentaje."
      ],
      "metadata": {
        "id": "Bzvn2ESo2MmP"
      }
    },
    {
      "cell_type": "code",
      "source": [
        "# 1. Explicar el propósito de la calculadora.\n",
        "print(\"Bienvenido a la calculadora de rendimiento de mangos.\")\n",
        "\n",
        "# 2. Pedir el peso inicial del lote de mangos en kg (input).\n",
        "peso_inicial = input(\"Ingrese el peso inicial del lote de mangos en kg: \")\n",
        "\n",
        "# 3. Pedir el peso final de la pulpa en kg (input).\n",
        "peso_final = input(\"Ingrese el peso final de la pulpa en kg: \")\n",
        "\n",
        "# 4. Convertir ambos pesos a números decimales (float).\n",
        "peso_inicial = float(peso_inicial)\n",
        "peso_final = float(peso_final)\n",
        "\n",
        "# 5. Calcular el rendimiento como un porcentaje (peso final / peso inicial * 100).\n",
        "rendimiento = (peso_final / peso_inicial) * 100\n",
        "\n",
        "# 6. Mostrar el resultado del rendimiento, formateado como porcentaje.\n",
        "print(f\"El rendimiento del lote de mangos es de {rendimiento:.2f}%\")\n"
      ],
      "metadata": {
        "id": "qY4qydjs2YH3"
      },
      "execution_count": null,
      "outputs": []
    },
    {
      "cell_type": "markdown",
      "metadata": {
        "id": "a33ae1bc"
      },
      "source": [
        "Aquí tienes la explicación línea por línea del código:\n",
        "\n",
        "1.  `print(\"Bienvenido al programa de cálculo de densidad de siembra.\")`: Esta línea imprime un mensaje de bienvenida al usuario, explicando brevemente el propósito del programa.\n",
        "2.  `largo = input(\"Ingrese el largo del lote en metros: \")`: Esta línea le pide al usuario que ingrese el largo del lote en metros. El texto entre comillas es el mensaje que se muestra al usuario. La entrada del usuario se almacena como una cadena de texto en la variable `largo`.\n",
        "3.  `ancho = input(\"Ingrese el ancho del lote en metros: \")`: Similar a la línea anterior, esta línea le pide al usuario que ingrese el ancho del lote en metros y almacena la entrada como una cadena de texto en la variable `ancho`.\n",
        "4.  `densidad = input(\"Ingrese la densidad de siembra recomendada de kilogramos por hectárea: \")`: Esta línea le pide al usuario que ingrese la densidad de siembra recomendada en kilogramos por hectárea y almacena la entrada como una cadena de texto en la variable `densidad`.\n",
        "5.  `largo = float(largo)`: Esta línea convierte la cadena de texto almacenada en la variable `largo` a un número decimal (punto flotante) y actualiza la variable `largo` con este nuevo valor. Esto es necesario para poder realizar cálculos matemáticos con el largo.\n",
        "6.  `ancho = float(ancho)`: De manera similar, esta línea convierte la cadena de texto almacenada en la variable `ancho` a un número decimal y actualiza la variable `ancho`.\n",
        "7.  `densidad = float(densidad)`: Esta línea convierte la cadena de texto almacenada en la variable `densidad` a un número decimal y actualiza la variable `densidad`.\n",
        "8.  `area = largo * ancho`: Esta línea calcula el área del lote multiplicando el largo por el ancho y almacena el resultado en la variable `area`.\n",
        "9.  `densidad_siembra = densidad * area`: **¡Ojo!** Esta línea calcula la densidad de siembra multiplicando la densidad recomendada por el área. Sin embargo, la densidad recomendada está en kilogramos por hectárea y el área está en metros cuadrados. Para que el cálculo sea correcto y el resultado esté en kilogramos para el área del lote, **deberías convertir el área de metros cuadrados a hectáreas antes de multiplicarla por la densidad**. 1 hectárea = 10,000 metros cuadrados. La fórmula correcta sería: `cantidad_semilla = (area / 10000) * densidad`.\n",
        "10. `print(\"El lote tiene un área de\", area, \"metros cuadrados.\")`: Esta línea muestra al usuario el área calculada del lote en metros cuadrados.\n",
        "11. `print(\"La densidad de siembra recomendada es de\", densidad_siembra, \"kilogramos por hectárea.\")`: Esta línea muestra el resultado del cálculo de la \"densidad de siembra\". **Sin embargo, debido al error en el cálculo de la línea 9, este resultado no representa la cantidad total de semilla necesaria para el lote, sino la densidad multiplicada por el área en metros cuadrados, lo cual no tiene una interpretación práctica en este contexto.** Debería mostrar la cantidad total de semilla calculada correctamente.\n",
        "\n",
        "**Sugerencia de mejora:** Para que el programa sea más útil, corrige la línea 9 para calcular la cantidad total de semilla necesaria para el lote en kilogramos, teniendo en cuenta la conversión de metros cuadrados a hectáreas, y ajusta la línea 11 para mostrar este resultado correctamente."
      ]
    },
    {
      "cell_type": "markdown",
      "source": [
        "# 3. Situación de Interés en Ingeniería Civil\n",
        "\n",
        "Un ingeniero residente de obra necesita calcular\n",
        "rápidamente el volumen de concreto necesario para vaciar una losa de piso rectangular simple. Debe poder ingresar el largo, el ancho y el espesor de la losa para obtener el volumen en metros cúbicos.\n"
      ],
      "metadata": {
        "id": "DVuNaeAe5pZX"
      }
    },
    {
      "cell_type": "code",
      "source": [
        "# 1. Presentar la herramienta al usuario.\n",
        "print(\"Bienvenido al calculador de volumen de concreto.\")\n",
        "\n",
        "# 2. Solicitar el largo, ancho y espesor de la losa, todos en metros (input).\n",
        "largo = float(input(\"Ingrese el largo de la losa en metros: \"))\n",
        "ancho = float(input(\"Ingrese el ancho de la losa en metros: \"))\n",
        "espesor = float(input(\"Ingrese el espesor de la losa en metros: \"))\n",
        "\n",
        "# 3. Convertir todas las entradas a números decimales (float).\n",
        "largo = float(largo)\n",
        "ancho = float(ancho)\n",
        "espesor = float(espesor)\n",
        "\n",
        "# 4. Calcular el volumen de la losa (largo * ancho * espesor).\n",
        "volumen = largo * ancho * espesor\n",
        "\n",
        "# 5. Presentar el volumen calculado en metros cúbicos.\n",
        "print(f\"El volumen de la losa es : {volumen:.2f}m3\")\n"
      ],
      "metadata": {
        "id": "VbOzh53K53N6"
      },
      "execution_count": null,
      "outputs": []
    },
    {
      "cell_type": "markdown",
      "metadata": {
        "id": "84bfeacb"
      },
      "source": [
        "Aquí tienes la explicación línea por línea del código de la celda actual:\n",
        "\n",
        "1.  `print(\"Bienvenido al calculador de volumen de concreto.\")`: Esta línea imprime un mensaje de bienvenida al usuario, indicando el propósito del programa.\n",
        "2.  `largo = float(input(\"Ingrese el largo de la losa en metros: \"))`: Esta línea solicita al usuario que ingrese el largo de la losa en metros. La función `input()` lee la entrada como texto, y `float()` la convierte inmediatamente a un número decimal. El resultado se almacena en la variable `largo`.\n",
        "3.  `ancho = float(input(\"Ingrese el ancho de la losa en metros: \"))`: Similar a la línea anterior, esta línea pide al usuario que ingrese el ancho de la losa en metros, convierte la entrada a un número decimal y lo almacena en la variable `ancho`.\n",
        "4.  `espesor = float(input(\"Ingrese el espesor de la losa en metros: \"))`: Esta línea solicita al usuario que ingrese el espesor de la losa en metros, convierte la entrada a un número decimal y lo almacena en la variable `espesor`.\n",
        "5.  `largo = float(largo)`: Esta línea **vuelve a convertir** la variable `largo` a un número decimal. Como ya se hizo en la línea 2, esta conversión es redundante y no es necesaria.\n",
        "6.  `ancho = float(ancho)`: Similarmente, esta línea **vuelve a convertir** la variable `ancho` a un número decimal, lo cual también es redundante.\n",
        "7.  `espesor = float(espesor)`: Y esta línea **vuelve a convertir** la variable `espesor` a un número decimal, también de forma redundante.\n",
        "8.  `volumen = largo * ancho * espesor`: Esta línea calcula el volumen de la losa multiplicando el largo, el ancho y el espesor. El resultado se almacena en la variable `volumen`.\n",
        "9.  `print(f\"El volumen de la losa es : {volumen:.2f}m3\")`: Esta línea muestra el resultado al usuario. Utiliza un f-string para incluir el valor de la variable `volumen` directamente en la cadena. El `: .2f` dentro de las llaves `{}` formatea el número decimal para que tenga solo dos dígitos después del punto decimal.\n",
        "\n",
        "**Sugerencia de mejora:** Las líneas 5, 6 y 7 son redundantes ya que la conversión a `float` ya se realizó en las líneas 2, 3 y 4 respectivamente. Podrías eliminar esas tres líneas para hacer el código un poco más limpio."
      ]
    }
  ]
}