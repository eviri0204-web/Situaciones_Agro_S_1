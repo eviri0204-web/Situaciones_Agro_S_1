{
  "nbformat": 4,
  "nbformat_minor": 0,
  "metadata": {
    "colab": {
      "provenance": [],
      "authorship_tag": "ABX9TyObbh09aY6lwixTOs4yQ71H",
      "include_colab_link": true
    },
    "kernelspec": {
      "name": "python3",
      "display_name": "Python 3"
    },
    "language_info": {
      "name": "python"
    }
  },
  "cells": [
    {
      "cell_type": "markdown",
      "metadata": {
        "id": "view-in-github",
        "colab_type": "text"
      },
      "source": [
        "<a href=\"https://colab.research.google.com/github/eviri0204-web/Situaciones_Agro_S_1/blob/main/Situaciones_Agro_S_1.ipynb\" target=\"_parent\"><img src=\"https://colab.research.google.com/assets/colab-badge.svg\" alt=\"Open In Colab\"/></a>"
      ]
    },
    {
      "cell_type": "code",
      "execution_count": null,
      "metadata": {
        "id": "09Ttj0Sun5Sx"
      },
      "outputs": [],
      "source": []
    },
    {
      "cell_type": "markdown",
      "source": [
        "Situación de Ingeniería Agricola\n",
        "\n",
        "Un agricultor necesita saber cuántos kilogramos\n",
        " de semilla de maíz debe comprar para sembrar un lote rectangular. Conoce la densidad de siembra\n",
        " recomendada (kg por hectárea) y las dimensiones del lote (largo y ancho en metros).\n",
        ""
      ],
      "metadata": {
        "id": "uccUBwB8piw7"
      }
    },
    {
      "cell_type": "code",
      "source": [
        "# 1. Saludar al usuario y explicar qué hace el programa.\n",
        "print(\"Bienvenido al programa de cálculo de densidad de siembra.\")\n",
        "\n",
        "# 2.  Pedir al usuario que ingrese el largo del lote en metros (input sin convertir).\n",
        "largo = input(\"Ingrese el largo del lote en metros: \")\n",
        "\n",
        "# 3. Pedir al usuario que ingrese el ancho del lote en metros (input sin convertir FLOAT).\n",
        "ancho = input(\"Ingrese el ancho del lote en metros: \")\n",
        "\n",
        "# 4. pedir al usuario que ingrese la densidad de siembra recomendada de kilogramos por hectárias.\n",
        "densidad = input(\"Ingrese la densidad de siembra recomendada de kilogramos por hectárea: \")\n",
        "\n",
        "#5. Convertir las entradas de texto a números decimales (float).\n",
        "largo = float(largo)\n",
        "ancho = float(ancho)\n",
        "densidad = float(densidad)\n",
        "\n",
        "# 6. Calcular el área en metros cuadrados (largo * ancho).\n",
        "area = largo * ancho\n",
        "\n",
        "# 7. Calcular la densidad de siembra en kilogramos por hectárea (densidad * area).\n",
        "densidad_siembra = densidad * area\n",
        "\n",
        "# 8. Mostrar el resultado al usuario.\n",
        "print(\"El lote tiene un área de\", area, \"metros cuadrados.\")\n",
        "print(\"La densidad de siembra recomendada es de\", densidad_siembra, \"kilogramos por hectárea.\")"
      ],
      "metadata": {
        "id": "0X9kD4aSwk_m"
      },
      "execution_count": null,
      "outputs": []
    },
    {
      "cell_type": "markdown",
      "metadata": {
        "id": "e84735eb"
      },
      "source": [
        "Aquí tienes la explicación línea por línea del código anterior:"
      ]
    },
    {
      "cell_type": "code",
      "metadata": {
        "id": "a9f9d41d"
      },
      "source": [
        "# 2.  Pedir al usuario que ingrese el largo del lote en metros (input sin convertir).\n",
        "largo = input(\"Ingrese el largo del lote en metros: \")"
      ],
      "execution_count": null,
      "outputs": []
    },
    {
      "cell_type": "code",
      "metadata": {
        "id": "293a3ea7"
      },
      "source": [
        "# 3. Pedir al usuario que ingrese el ancho del lote en metros (input sin convertir FLOAT).\n",
        "ancho = input(\"Ingrese el ancho del lote en metros: \")"
      ],
      "execution_count": null,
      "outputs": []
    },
    {
      "cell_type": "code",
      "metadata": {
        "id": "9a80a9e2"
      },
      "source": [
        "# 4. pedir al usuario que ingrese la densidad de siembra recomendada de kilogramos por hectárias.\n",
        "densidad = input(\"Ingrese la densidad de siembra recomendada de kilogramos por hectárea: \")"
      ],
      "execution_count": null,
      "outputs": []
    },
    {
      "cell_type": "code",
      "metadata": {
        "id": "e64923b0"
      },
      "source": [
        "#5. Convertir las entradas de texto a números decimales (float).\n",
        "largo = float(largo)\n",
        "ancho = float(ancho)\n",
        "densidad = float(densidad)"
      ],
      "execution_count": null,
      "outputs": []
    },
    {
      "cell_type": "code",
      "metadata": {
        "id": "44a28f73"
      },
      "source": [
        "# 6. Calcular el área en metros cuadrados (largo * ancho).\n",
        "area = largo * ancho"
      ],
      "execution_count": null,
      "outputs": []
    },
    {
      "cell_type": "code",
      "metadata": {
        "id": "31044925"
      },
      "source": [
        "# 7. Calcular la densidad de siembra en kilogramos por hectárea (densidad * area).\n",
        "densidad_siembra = densidad * area"
      ],
      "execution_count": null,
      "outputs": []
    },
    {
      "cell_type": "code",
      "metadata": {
        "id": "71c7099b"
      },
      "source": [
        "# 8. Mostrar el resultado al usuario.\n",
        "print(\"El lote tiene un área de\", area, \"metros cuadrados.\")\n",
        "print(\"La densidad de siembra recomendada es de\", densidad_siembra, \"kilogramos por hectárea.\")"
      ],
      "execution_count": null,
      "outputs": []
    }
  ]
}